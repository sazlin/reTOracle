{
 "metadata": {
  "name": "",
  "signature": "sha256:fa6a2d201b745cf536b11615e9cfed4d7901cee576e7f71d800cfcff92d61477"
 },
 "nbformat": 3,
 "nbformat_minor": 0,
 "worksheets": []
}